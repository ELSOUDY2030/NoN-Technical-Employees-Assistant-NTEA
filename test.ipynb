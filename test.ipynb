{
 "cells": [
  {
   "cell_type": "code",
   "execution_count": 1,
   "metadata": {},
   "outputs": [],
   "source": [
    "import os\n",
    "from dotenv import load_dotenv\n",
    "from openai import OpenAI"
   ]
  },
  {
   "cell_type": "code",
   "execution_count": 2,
   "metadata": {},
   "outputs": [],
   "source": [
    "# Load the Key token\n",
    "_ = load_dotenv(override=True)\n",
    "OPENAI_API_KEY = os.getenv('OPENAI_API_KEY')\n",
    "\n",
    "client = OpenAI(api_key=OPENAI_API_KEY)"
   ]
  },
  {
   "cell_type": "code",
   "execution_count": 9,
   "metadata": {},
   "outputs": [
    {
     "name": "stdout",
     "output_type": "stream",
     "text": [
      "Authentication successful for: James Johnson\n"
     ]
    }
   ],
   "source": [
    "import sqlite3\n",
    "import hashlib\n",
    "import pandas as pd\n",
    "\n",
    "conn = sqlite3.connect('database/employee_data.db')\n",
    "cursor = conn.cursor()\n",
    "\n",
    "email=\"xperry@gmail.com\"\n",
    "password=\"password123\"\n",
    "\n",
    "# Hash the input password\n",
    "password_hash = hashlib.sha256(password.encode()).hexdigest()\n",
    "\n",
    "# Query to find the employee with matching email and password hash\n",
    "cursor.execute(\n",
    "    \"SELECT * FROM employees WHERE email=? AND password_hash=?\",\n",
    "    (email, password_hash),\n",
    ")\n",
    "employee = cursor.fetchone()\n",
    "\n",
    "query = f\"SELECT * FROM employees WHERE email = '{email}' AND password_hash = '{password_hash}'\"\n",
    "\n",
    "df = pd.read_sql(query, conn)\n",
    "\n",
    "conn.close()\n",
    "\n",
    "if employee:\n",
    "    print(f\"Authentication successful for: {employee[1]} {employee[2]}\")\n",
    "    employee_data = df.to_dict('records')"
   ]
  },
  {
   "cell_type": "code",
   "execution_count": 10,
   "metadata": {},
   "outputs": [
    {
     "data": {
      "text/plain": [
       "[{'employee_id': 5,\n",
       "  'first_name': 'James',\n",
       "  'last_name': 'Johnson',\n",
       "  'email': 'xperry@gmail.com',\n",
       "  'phone_number': '620-638-0771x882',\n",
       "  'department': 'IT',\n",
       "  'position': 'Coordinator',\n",
       "  'hire_date': '16/12/2021',\n",
       "  'base_salary': 55650.27,\n",
       "  'bonus': 9234.58,\n",
       "  'currency': 'USD',\n",
       "  'annual_leave_balance': 9,\n",
       "  'sick_leave_balance': 4,\n",
       "  'performance_rating': 2.61,\n",
       "  'review_period': 'Q1 2024',\n",
       "  'last_review_date': '26/05/2024',\n",
       "  'password_hash': 'ef92b778bafe771e89245b89ecbc08a44a4e166c06659911881f383d4473e94f',\n",
       "  'last_login': '26/08/2024 17:55'}]"
      ]
     },
     "execution_count": 10,
     "metadata": {},
     "output_type": "execute_result"
    }
   ],
   "source": [
    "employee_data"
   ]
  },
  {
   "cell_type": "code",
   "execution_count": 12,
   "metadata": {},
   "outputs": [],
   "source": [
    "user_query=\"How many leaves do i have?\"\n",
    "\n",
    "prompt = f\"\"\"\n",
    "    Employee Information: {employee_data}\n",
    "    \n",
    "    Question: {user_query}\n",
    "    \"\"\"\n",
    "\n",
    "system_message = \"\"\"\n",
    "You are an assistant helping non-technical employees with their questions using the information provided.\n",
    "\n",
    "You will receive the data about the employee in a list of dictionary\n",
    "the variables of the each dictionary are:\n",
    "    employee_id: Unique identifier for each employee\n",
    "    first_name: Employee's first name\n",
    "    last_name: Employee's last name\n",
    "    email: Employee's email (used for authentication)\n",
    "    phone_number: Employee's contact number\n",
    "    department: Employee's department\n",
    "    position: Job title or position\n",
    "    hire_date: Date when the employee was hired\n",
    "    base_salary: Employee's base salary\n",
    "    bonus: Most recent bonus amount\n",
    "    currency: Currency of the salary\n",
    "    annual_leave_balance: Number of annual leave days remaining\n",
    "    sick_leave_balance: Number of sick leave days remaining\n",
    "    performance_rating: Latest performance rating (e.g., 4.5)\n",
    "    review_period: Period of the last review (e.g., Q1, 2024)\n",
    "    last_review_date: Date of the last performance review\n",
    "    password_hash: Hashed password for secure authentication\n",
    "    last_login: Date and time of the last login\n",
    "\"\"\""
   ]
  },
  {
   "cell_type": "code",
   "execution_count": 13,
   "metadata": {},
   "outputs": [],
   "source": [
    "# Send the prompt to the LLM model\n",
    "response = client.chat.completions.create(\n",
    "    model=\"gpt-4o-mini\",\n",
    "    messages=[\n",
    "        {\n",
    "            \"role\": \"system\",\n",
    "            \"content\": system_message,\n",
    "        },\n",
    "        {\"role\": \"user\", \"content\": prompt},\n",
    "    ],\n",
    ")"
   ]
  },
  {
   "cell_type": "code",
   "execution_count": 15,
   "metadata": {},
   "outputs": [
    {
     "data": {
      "text/plain": [
       "'You have a total of 9 annual leave days remaining and 4 sick leave days remaining.'"
      ]
     },
     "execution_count": 15,
     "metadata": {},
     "output_type": "execute_result"
    }
   ],
   "source": [
    "# Return the LLM's response\n",
    "response.choices[0].message.content"
   ]
  },
  {
   "cell_type": "code",
   "execution_count": 16,
   "metadata": {},
   "outputs": [],
   "source": [
    "import time"
   ]
  },
  {
   "cell_type": "code",
   "execution_count": 18,
   "metadata": {},
   "outputs": [
    {
     "name": "stdout",
     "output_type": "stream",
     "text": [
      "ChatBot: You have 4 sick leave days remaining.\n",
      "ChatBot: Could you please clarify what you mean by \"the total\"? Are you referring to your total annual leave, sick leave, salary, or something else?\n",
      "ChatBot: If you are asking for the total of your annual leave and sick leave balances, you have a total of 13 leave days (9 annual leave days + 4 sick leave days). \n",
      "\n",
      "If you meant something else, please let me know!\n",
      "ChatBot: Your base salary is $55,650.27 USD.\n",
      "ChatBot: Yes, you have a bonus of $9,234.58 USD.\n",
      "ChatBot: Yes, you have a bonus of $9,234.58 USD.\n",
      "Thank you for using our services\n"
     ]
    }
   ],
   "source": [
    "all_masseges = list()\n",
    "all_prompts = list()\n",
    "model_responses = list()\n",
    "\n",
    "# Define system promt\n",
    "all_masseges.append({\"role\": \"system\", \"content\": system_message})\n",
    "\n",
    "while True:\n",
    "    \n",
    "    user_question = input('You: ')\n",
    "    \n",
    "    \n",
    "    if user_question.lower() in ['quit', 'exit', 'ex', 'escape', 'bye']:\n",
    "      print('Thank you for using our services')\n",
    "      time.sleep(2)\n",
    "      break\n",
    "    \n",
    "    elif user_question == '':\n",
    "      continue\n",
    "    \n",
    "    else:\n",
    "      \n",
    "      user_promt = f\"\"\"\n",
    "      Employee Information: {employee_data}\n",
    "      \n",
    "      Question: {user_question}\n",
    "      \"\"\"\n",
    "      \n",
    "      # append user promt\n",
    "      all_prompts.append(user_promt)\n",
    "      \n",
    "      # append in the messages list of dicts\n",
    "      all_masseges.append({\"role\": \"user\", \"content\": user_promt})\n",
    "      \n",
    "      # model\n",
    "      each_response = client.chat.completions.create(\n",
    "        model=\"gpt-4o-mini\",\n",
    "        messages=all_masseges\n",
    "        )\n",
    "      \n",
    "      each_response = each_response.choices[0].message.content\n",
    "      print(f'ChatBot: {each_response}')\n",
    "      \n",
    "      # append response\n",
    "      model_responses.append(each_response)\n",
    "      \n",
    "      # append AI response\n",
    "      all_masseges.append({\"role\": \"assistant\", \"content\": each_response})"
   ]
  },
  {
   "cell_type": "code",
   "execution_count": null,
   "metadata": {},
   "outputs": [],
   "source": []
  }
 ],
 "metadata": {
  "kernelspec": {
   "display_name": "depi",
   "language": "python",
   "name": "python3"
  },
  "language_info": {
   "codemirror_mode": {
    "name": "ipython",
    "version": 3
   },
   "file_extension": ".py",
   "mimetype": "text/x-python",
   "name": "python",
   "nbconvert_exporter": "python",
   "pygments_lexer": "ipython3",
   "version": "3.9.19"
  }
 },
 "nbformat": 4,
 "nbformat_minor": 2
}
